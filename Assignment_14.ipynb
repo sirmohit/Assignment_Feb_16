{
 "cells": [
  {
   "cell_type": "markdown",
   "id": "1656639b",
   "metadata": {},
   "source": [
    "Q1. What is a database? Differentiate between SQL and NoSQL databases.\n",
    "\n",
    "Ans: Database : A database is information that is set up for easy access, management and updating  information efficiently. \n",
    "                In essence, it's an organized system for storing and retrieving information.\n",
    "            \n",
    "    Differences:\n",
    "    SQL databases are relational and use structured query language (SQL) for defining and manipulating the data.\n",
    "    NoSQL databases can be document-based, key-value pairs, column-based, or graph-based, providing flexibility\n",
    "    in data representation.\n",
    "    \n",
    "    SQL stores data in the tabular for and can store the csv data , json data.\n",
    "    NoSQL Stores data in the the file structure.\n",
    "    \n",
    "    SQL databases usually scale vertically by adding more power (CPU, RAM, SSD) to an existing machine.\n",
    "    NoSQL databases are designed to scale horizontally across many servers, making it easier to handle \n",
    "    large amounts of data and high loads.\n",
    "                "
   ]
  },
  {
   "cell_type": "markdown",
   "id": "0f8a99b8",
   "metadata": {},
   "source": [
    "Q2. What is DDL? Explain why CREATE, DROP, ALTER, and TRUNCATE are used with an example.\n",
    "\n",
    "Ans: DDL: DDL stands for Data Definition Language.It is the subset of SQL.It is a language for describing data and \n",
    "         its relationships in a database. You can generate DDL in a script for database objects to: Keep a snapshot \n",
    "         of the database structure.\n",
    "        \n",
    "    Use of the CREATE ,DROP , ALTER and TRUNCATE are:"
   ]
  },
  {
   "cell_type": "markdown",
   "id": "71b7ac15",
   "metadata": {},
   "source": [
    "\n",
    "CREATE:The CREATE command is used to create new database objects like tables, indexes, views, or databases.\n",
    "Example: \n",
    "CREATE TABLE Employees (\n",
    "    ID INT PRIMARY KEY,\n",
    "    Name VARCHAR(50),\n",
    "    Salary DECIMAL(10, 2)\n",
    ");\n",
    "\n",
    "\n",
    "DROP:The DROP command is used to delete database objects like tables, indexes, views, or databases.\n",
    "      This command permanently removes the object and its data from the database.\n",
    "Example:\n",
    "    DROP TABLE Employees\n",
    "    \n",
    "ALTER:The ALTER command is used to modify the structure of an existing database object without dropping and recreating it.\n",
    "       You can add, modify, or delete columns, constraints, or indexes using the ALTER command. \n",
    "Example:\n",
    "    ALTER TABLE Employees\n",
    "    ADD Department VARCHAR(50);\n",
    "    \n",
    "TRUNCATE:The TRUNCATE command is used to delete all records from a table but retains the table structure for further use\n",
    "Example:\n",
    "    TRUNCATE TABLE Employees;"
   ]
  },
  {
   "cell_type": "markdown",
   "id": "07308fbd",
   "metadata": {},
   "source": [
    "Q3. What is DML? Explain INSERT, UPDATE, and DELETE with an example.\n",
    "\n",
    "Ans:DML stands for Data Manipulation Language. It is a subset of SQL used for managing and manipulating data within the\n",
    "    database objects.\n",
    "    \n",
    "    INSERT:The INSERT command is used to add new records or rows into a table.\n",
    "    Example:\n",
    "        INSERT INTO Employees (ID, Name, Salary, Department)\n",
    "        VALUES (1, 'John Doe', 50000, 'HR');\n",
    "\n",
    "    UPDATE:The UPDATE command is used to modify existing records or rows in a table based on specified conditions.\n",
    "    Example:\n",
    "    sql\n",
    "    Copy code\n",
    "    UPDATE Employees\n",
    "    SET Salary = 55000\n",
    "    WHERE Name = 'John Doe';\n",
    "    \n",
    "    DELETE: The DELETE command is used to remove records or rows from a table based on specified conditions. \n",
    "            If no condition is specified, it will remove all records from the table.\n",
    "    Example:\n",
    "    sql\n",
    "    Copy code\n",
    "    DELETE FROM Employees\n",
    "    WHERE ID = 1;"
   ]
  },
  {
   "cell_type": "markdown",
   "id": "b00a9a64",
   "metadata": {},
   "source": [
    "Q4. What is DQL? Explain SELECT with an example.\n",
    "\n",
    "Ans:DQL stands for Data Query Language. It is a subset of SQL used to retrieve or fetch data from the database tables.\n",
    "    \n",
    "    SELECT:The SELECT command is used to retrieve or fetch data records from one or multiple tables based on specified\n",
    "           criteria.It allows users to select specific columns, filter rows using conditions, sort results, and perform \n",
    "           various operations like joins, aggregations, and subqueries.\n",
    "    EXAMPLE:\n",
    "        SELECT ID, Name, Salary \n",
    "        FROM Employees \n",
    "        WHERE Department = 'HR';"
   ]
  },
  {
   "cell_type": "markdown",
   "id": "d55a4701",
   "metadata": {},
   "source": [
    "Q5. Explain Primary Key and Foreign Key.\n",
    "\n",
    "ANS:Primary Key:A Primary Key is a or set attribute in a relational database table that uniquely identifies each record \n",
    "               in that table. Each table can have only one primary key, and the values in this column(s) must be unique\n",
    "               and cannot contain NULL values.\n",
    "                \n",
    "    Foreign Key:A Foreign Key is a column or a set of columns in a table that establishes a link between data in two tables,\n",
    "                where the foreign key in one table refers to the primary key in another table. It ensures referential integrity\n",
    "                by maintaining the relationship between related tables."
   ]
  },
  {
   "cell_type": "markdown",
   "id": "c3912f10",
   "metadata": {},
   "source": [
    "Q6. Write a python code to connect MySQL to python. Explain the cursor() and execute() method."
   ]
  },
  {
   "cell_type": "code",
   "execution_count": 3,
   "id": "dff14e78",
   "metadata": {},
   "outputs": [
    {
     "ename": "ModuleNotFoundError",
     "evalue": "No module named 'mysql'",
     "output_type": "error",
     "traceback": [
      "\u001b[1;31m---------------------------------------------------------------------------\u001b[0m",
      "\u001b[1;31mModuleNotFoundError\u001b[0m                       Traceback (most recent call last)",
      "\u001b[1;32m~\\AppData\\Local\\Temp\\ipykernel_4212\\2118319878.py\u001b[0m in \u001b[0;36m<module>\u001b[1;34m\u001b[0m\n\u001b[0;32m      1\u001b[0m \u001b[1;31m#Ans: Python code to connect MySQL to python is as follws:\u001b[0m\u001b[1;33m\u001b[0m\u001b[1;33m\u001b[0m\u001b[0m\n\u001b[1;32m----> 2\u001b[1;33m \u001b[1;32mimport\u001b[0m \u001b[0mmysql\u001b[0m\u001b[1;33m.\u001b[0m\u001b[0mconnector\u001b[0m\u001b[1;33m\u001b[0m\u001b[1;33m\u001b[0m\u001b[0m\n\u001b[0m\u001b[0;32m      3\u001b[0m \u001b[1;33m\u001b[0m\u001b[0m\n\u001b[0;32m      4\u001b[0m \u001b[1;31m# Establishing a connection to MySQL database\u001b[0m\u001b[1;33m\u001b[0m\u001b[1;33m\u001b[0m\u001b[0m\n\u001b[0;32m      5\u001b[0m mydb = mysql.connector.connect(\n",
      "\u001b[1;31mModuleNotFoundError\u001b[0m: No module named 'mysql'"
     ]
    }
   ],
   "source": [
    "#Ans: Python code to connect MySQL to python is as follws:\n",
    "pip install mysql-connector-python\n",
    "import mysql.connector\n",
    "\n",
    "# Establishing a connection to MySQL database\n",
    "mydb = mysql.connector.connect(\n",
    "    host=\"localhost\",       # Hostname\n",
    "    user=\"username\",        # Username\n",
    "    password=\"password\",    # Password\n",
    "    database=\"mydatabase\"   # Database name\n",
    ")\n",
    "\n",
    "print(\"Connected to MySQL database!\")\n"
   ]
  },
  {
   "cell_type": "markdown",
   "id": "9da7efef",
   "metadata": {},
   "source": [
    "\n",
    "cursor() Method:The cursor() method creates a cursor object that allows you to execute SQL queries and fetch results\n",
    "                from the database.\n",
    "        \n",
    "execute() Method:The execute() method is used to execute SQL queries or statements on the database using the cursor object.\n",
    "                  It takes an SQL query as its argument and executes that query on the connected database."
   ]
  },
  {
   "cell_type": "markdown",
   "id": "337ea542",
   "metadata": {},
   "source": [
    "Q7. Give the order of execution of SQL clauses in an SQL query.\n",
    "\n",
    "Ans: The order of execution of SQL clauses in an SQL query are:\n",
    "     FROM, WHERE, GROUP BY, HAVING, SELECT, ORDER BY, LIMIT\n",
    "     you can construct efficient and effective SQL queries that retrieve, filter, aggregate, sort, and limit\n",
    "     data based on your requirements and criteria.\n",
    "\n",
    "\n",
    "\n",
    "\n",
    "\n"
   ]
  },
  {
   "cell_type": "code",
   "execution_count": null,
   "id": "be8cb2a1",
   "metadata": {},
   "outputs": [],
   "source": []
  }
 ],
 "metadata": {
  "kernelspec": {
   "display_name": "Python 3 (ipykernel)",
   "language": "python",
   "name": "python3"
  },
  "language_info": {
   "codemirror_mode": {
    "name": "ipython",
    "version": 3
   },
   "file_extension": ".py",
   "mimetype": "text/x-python",
   "name": "python",
   "nbconvert_exporter": "python",
   "pygments_lexer": "ipython3",
   "version": "3.9.13"
  }
 },
 "nbformat": 4,
 "nbformat_minor": 5
}
